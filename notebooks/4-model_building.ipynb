{
 "cells": [
  {
   "cell_type": "markdown",
   "metadata": {},
   "source": [
    "### Section 1: Importing Libraries"
   ]
  },
  {
   "cell_type": "code",
   "execution_count": 22,
   "metadata": {},
   "outputs": [],
   "source": [
    "import pandas as pd\n",
    "import numpy as np\n",
    "import statsmodels.api as sm\n",
    "from sklearn.linear_model import LogisticRegression\n",
    "from sklearn.model_selection import train_test_split\n",
    "from sklearn.preprocessing import StandardScaler\n",
    "from sklearn.metrics import accuracy_score, precision_score, recall_score, f1_score"
   ]
  },
  {
   "cell_type": "markdown",
   "metadata": {},
   "source": [
    "### Section 2: Loading Data"
   ]
  },
  {
   "cell_type": "code",
   "execution_count": 23,
   "metadata": {},
   "outputs": [],
   "source": [
    "# Load the cleaned data from the CSV file\n",
    "df = pd.read_csv('cleaned_bike_stations_pois.csv')"
   ]
  },
  {
   "cell_type": "markdown",
   "metadata": {},
   "source": [
    "### Section 3: Building a Regression Model"
   ]
  },
  {
   "cell_type": "markdown",
   "metadata": {},
   "source": [
    "#### 3.1 Feature Selection and Encoding"
   ]
  },
  {
   "cell_type": "code",
   "execution_count": 24,
   "metadata": {},
   "outputs": [],
   "source": [
    "# Define features and target variable\n",
    "target = 'number_of_bikes'\n",
    "\n",
    "# One-hot encode categorical variables\n",
    "df_encoded = pd.get_dummies(df, columns=['poi_price', 'poi_category', 'source'], drop_first=True)\n",
    "\n",
    "# Select all numeric and one-hot encoded features dynamically\n",
    "all_features = [col for col in df_encoded.columns if col.startswith(('poi_price_', 'poi_category_', 'source_'))] + ['poi_rating', 'poi_latitude', 'poi_longitude']\n",
    "\n",
    "# Check if there are any features selected\n",
    "if not all_features:\n",
    "    raise ValueError(\"No features selected\")"
   ]
  },
  {
   "cell_type": "markdown",
   "metadata": {},
   "source": [
    "#### 3.2 Data Preprocessing"
   ]
  },
  {
   "cell_type": "code",
   "execution_count": 25,
   "metadata": {},
   "outputs": [],
   "source": [
    "# Convert features to numeric\n",
    "X = df_encoded[all_features].apply(pd.to_numeric, errors='coerce')\n",
    "y = pd.to_numeric(df_encoded[target], errors='coerce')\n",
    "\n",
    "# Drop any columns in X that couldn't be converted to numeric data\n",
    "X = X.select_dtypes(include=[np.number])\n",
    "\n",
    "# Drop any rows with missing values in features or target\n",
    "missing_rows = X.isna().any(axis=1) | y.isna()\n",
    "X = X.loc[~missing_rows]\n",
    "y = y.loc[~missing_rows]\n",
    "\n",
    "# Check for sufficient data\n",
    "if len(X) < len(X.columns):\n",
    "    raise ValueError(\"Not enough data to fit the model\")"
   ]
  },
  {
   "cell_type": "markdown",
   "metadata": {},
   "source": [
    "#### 3.3 Fitting the OLS Regression Model"
   ]
  },
  {
   "cell_type": "code",
   "execution_count": 26,
   "metadata": {},
   "outputs": [
    {
     "name": "stdout",
     "output_type": "stream",
     "text": [
      "                            OLS Regression Results                            \n",
      "==============================================================================\n",
      "Dep. Variable:        number_of_bikes   R-squared:                       0.370\n",
      "Model:                            OLS   Adj. R-squared:                  0.156\n",
      "Method:                 Least Squares   F-statistic:                     1.727\n",
      "Date:                Mon, 23 Sep 2024   Prob (F-statistic):           7.51e-06\n",
      "Time:                        18:46:37   Log-Likelihood:                -2060.5\n",
      "No. Observations:                 607   AIC:                             4431.\n",
      "Df Residuals:                     452   BIC:                             5114.\n",
      "Df Model:                         154                                         \n",
      "Covariance Type:            nonrobust                                         \n",
      "=================================================================================================================================\n",
      "                                                                    coef    std err          t      P>|t|      [0.025      0.975]\n",
      "---------------------------------------------------------------------------------------------------------------------------------\n",
      "const                                                          3552.3842    537.739      6.606      0.000    2495.606    4609.163\n",
      "poi_price_2.0                                                    -1.4981      1.550     -0.967      0.334      -4.544       1.548\n",
      "poi_price_3.0                                                    -3.8973      2.199     -1.772      0.077      -8.219       0.425\n",
      "poi_price_4.0                                                    -3.4339      7.079     -0.485      0.628     -17.346      10.478\n",
      "poi_price_Unknown                                                -2.6595      1.432     -1.857      0.064      -5.473       0.154\n",
      "poi_category_BBQ                                                 -2.1637      7.867     -0.275      0.783     -17.625      13.297\n",
      "poi_category_Bakery                                              -1.6979      6.527     -0.260      0.795     -14.525      11.129\n",
      "poi_category_Bar                                                  4.1518      8.584      0.484      0.629     -12.717      21.021\n",
      "poi_category_Borek                                                6.3146     10.446      0.605      0.546     -14.214      26.843\n",
      "poi_category_Brasserie                                           21.4446     10.458      2.051      0.041       0.893      41.997\n",
      "poi_category_Breakfast                                            1.9253      6.927      0.278      0.781     -11.688      15.539\n",
      "poi_category_Burgers                                              3.2336      7.519      0.430      0.667     -11.542      18.010\n",
      "poi_category_Café                                                -3.6166      6.318     -0.572      0.567     -16.033       8.800\n",
      "poi_category_Cigkofte                                            -5.2246     10.452     -0.500      0.617     -25.765      15.315\n",
      "poi_category_Deli                                                -7.5465     10.443     -0.723      0.470     -28.070      12.977\n",
      "poi_category_Diner                                                6.6289      8.363      0.793      0.428      -9.807      23.065\n",
      "poi_category_Dining and Drinking                                 -0.5380      6.632     -0.081      0.935     -13.571      12.495\n",
      "poi_category_Doner                                               -7.4660      8.606     -0.868      0.386     -24.379       9.447\n",
      "poi_category_Fast Food                                           -2.7568      6.985     -0.395      0.693     -16.484      10.971\n",
      "poi_category_Fish and Chips Shop                                 -8.3345     10.264     -0.812      0.417     -28.506      11.837\n",
      "poi_category_Food Court                                          -0.0875      8.609     -0.010      0.992     -17.007      16.831\n",
      "poi_category_Food Truck                                          16.8188      8.665      1.941      0.053      -0.211      33.848\n",
      "poi_category_Fried Chicken                                       -0.8516      8.615     -0.099      0.921     -17.781      16.078\n",
      "poi_category_Indian                                               4.7662     10.448      0.456      0.648     -15.766      25.298\n",
      "poi_category_Irish                                                7.5361     10.444      0.722      0.471     -12.988      28.060\n",
      "poi_category_Italian                                              3.9803      7.630      0.522      0.602     -11.013      18.974\n",
      "poi_category_Kebab                                                0.7805      7.279      0.107      0.915     -13.525      15.086\n",
      "poi_category_Kofte                                               -0.0118     10.448     -0.001      0.999     -20.544      20.520\n",
      "poi_category_Kokoreç Restaurant                                  -0.3941      6.895     -0.057      0.954     -13.945      13.157\n",
      "poi_category_Manti                                               -5.4500      8.600     -0.634      0.527     -22.351      11.452\n",
      "poi_category_Mediterranean                                        1.3307      8.461      0.157      0.875     -15.298      17.959\n",
      "poi_category_Meyhane                                             -2.7603      6.487     -0.426      0.671     -15.508       9.987\n",
      "poi_category_Modern European                                      1.8910     10.431      0.181      0.856     -18.609      22.391\n",
      "poi_category_Pide                                                -2.0837      6.903     -0.302      0.763     -15.650      11.482\n",
      "poi_category_Pizza                                               -2.7093      6.692     -0.405      0.686     -15.860      10.441\n",
      "poi_category_Restaurant                                          -2.1905      6.565     -0.334      0.739     -15.092      10.711\n",
      "poi_category_Sandwich Spot                                       -7.1131      7.501     -0.948      0.343     -21.854       7.628\n",
      "poi_category_Seafood                                              0.7790      6.083      0.128      0.898     -11.175      12.733\n",
      "poi_category_Soup Spot                                          -12.5778      7.952     -1.582      0.114     -28.206       3.050\n",
      "poi_category_Steakhouse                                           6.1131     10.058      0.608      0.544     -13.652      25.879\n",
      "poi_category_Sushi                                               -1.8157      8.430     -0.215      0.830     -18.382      14.751\n",
      "poi_category_Söğüş Place                                         -2.3422     10.443     -0.224      0.823     -22.864      18.180\n",
      "poi_category_Theme Restaurant                                    -5.1501     10.434     -0.494      0.622     -25.655      15.355\n",
      "poi_category_Turkish                                             -3.2711      6.477     -0.505      0.614     -16.000       9.458\n",
      "poi_category_Turkish Home Cooking                                 2.0324      6.706      0.303      0.762     -11.147      15.212\n",
      "poi_category_['American', 'Lounges']                             -6.8636      8.365     -0.821      0.412     -23.302       9.575\n",
      "poi_category_['Bakeries', 'Cafes', 'Coffee & Tea']              -11.1562      8.502     -1.312      0.190     -27.865       5.552\n",
      "poi_category_['Bakeries', 'Desserts', 'Cafes']                   -1.8683      8.494     -0.220      0.826     -18.561      14.825\n",
      "poi_category_['Barbeque', 'Fast Food', 'Sandwiches']            -11.5260      8.349     -1.381      0.168     -27.933       4.881\n",
      "poi_category_['Barbeque', 'Seafood', 'Mediterranean']            16.1691      8.358      1.935      0.054      -0.257      32.595\n",
      "poi_category_['Barbeque', 'Steakhouses', 'Cocktail Bars']         7.0734      8.364      0.846      0.398      -9.364      23.511\n",
      "poi_category_['Barbeque', 'Turkish']                             -6.3416      8.390     -0.756      0.450     -22.829      10.146\n",
      "poi_category_['Barbeque']                                         2.2311      4.899      0.455      0.649      -7.396      11.858\n",
      "poi_category_['Bars', 'Cafes', 'Coffee & Tea']                    1.5881      4.224      0.376      0.707      -6.713       9.889\n",
      "poi_category_['Bars', 'Cafeteria']                               -7.2659      8.363     -0.869      0.385     -23.702       9.170\n",
      "poi_category_['Bars', 'Italian', 'Cafes']                         4.4353      8.373      0.530      0.597     -12.019      20.889\n",
      "poi_category_['Bars', 'Turkish']                                  6.0863      8.382      0.726      0.468     -10.387      22.559\n",
      "poi_category_['Bistros']                                         19.9475      8.389      2.378      0.018       3.462      36.433\n",
      "poi_category_['Brasseries', 'Fast Food']                          5.4398      8.413      0.647      0.518     -11.093      21.973\n",
      "poi_category_['Brazilian']                                       -3.3576      8.346     -0.402      0.688     -19.758      13.043\n",
      "poi_category_['Breakfast & Brunch', 'Black Sea']                 -3.3104      8.363     -0.396      0.692     -19.746      13.125\n",
      "poi_category_['Breakfast & Brunch', 'Homemade Food']            -10.0986      8.371     -1.206      0.228     -26.549       6.352\n",
      "poi_category_['Breakfast & Brunch', 'Turkish', 'Cafes']          -4.9670      8.498     -0.584      0.559     -21.668      11.734\n",
      "poi_category_['Buffets', 'Fast Food']                            -5.3763      8.335     -0.645      0.519     -21.756      11.004\n",
      "poi_category_['Cafes', 'Brasseries', 'Coffee & Tea']             -4.1010      8.365     -0.490      0.624     -20.540      12.338\n",
      "poi_category_['Cafes', 'Breakfast & Brunch', 'Coffee & Tea']      0.4087      4.852      0.084      0.933      -9.126       9.943\n",
      "poi_category_['Cafes', 'Breakfast & Brunch']                      1.1296      8.377      0.135      0.893     -15.332      17.591\n",
      "poi_category_['Cafes', 'Burgers']                                -4.9520      8.351     -0.593      0.554     -21.364      11.460\n",
      "poi_category_['Cafes', 'Coffee & Tea', 'Steakhouses']            -7.3235      8.379     -0.874      0.383     -23.790       9.143\n",
      "poi_category_['Cafes', 'Coffee & Tea']                           -2.5006      2.175     -1.150      0.251      -6.775       1.774\n",
      "poi_category_['Cafes', 'Fast Food', 'Sandwiches']                -2.6055      8.485     -0.307      0.759     -19.280      14.069\n",
      "poi_category_['Cafes', 'Turkish', 'Coffee & Tea']                13.9400      8.411      1.657      0.098      -2.589      30.469\n",
      "poi_category_['Cafes']                                           -0.2142      4.890     -0.044      0.965      -9.824       9.395\n",
      "poi_category_['Cafeteria']                                        5.6125      4.868      1.153      0.250      -3.955      15.180\n",
      "poi_category_['Chee Kufta']                                     -17.3736      8.406     -2.067      0.039     -33.892      -0.855\n",
      "poi_category_['Chinese']                                         -0.7292      8.376     -0.087      0.931     -17.190      15.732\n",
      "poi_category_['Coffee & Tea', 'Bars', 'Cafes']                   18.2243      8.333      2.187      0.029       1.849      34.600\n",
      "poi_category_['Coffee & Tea', 'Bistros', 'Cafes']                 2.7874      8.600      0.324      0.746     -14.113      19.687\n",
      "poi_category_['Coffee & Tea', 'Cafes', 'Brasseries']             -7.7413      8.404     -0.921      0.357     -24.257       8.774\n",
      "poi_category_['Coffee & Tea', 'Cafes', 'Waffles']                -1.9975      8.350     -0.239      0.811     -18.407      14.412\n",
      "poi_category_['Coffee & Tea', 'Cafes']                           -2.2765      2.108     -1.080      0.281      -6.418       1.865\n",
      "poi_category_['Coffee & Tea', 'Cafeteria', 'Cafes']              11.6434      8.550      1.362      0.174      -5.158      28.445\n",
      "poi_category_['Coffee & Tea', 'Desserts', 'Cafes']                5.0297      8.370      0.601      0.548     -11.420      21.479\n",
      "poi_category_['Coffee & Tea', 'Steakhouses', 'Cafes']            19.6852      8.498      2.316      0.021       2.984      36.386\n",
      "poi_category_['Delis']                                           -8.4837      2.941     -2.885      0.004     -14.263      -2.704\n",
      "poi_category_['Desserts', 'Coffee & Tea', 'Cafes']                5.5790      8.376      0.666      0.506     -10.882      22.040\n",
      "poi_category_['Fast Food', 'Burgers']                            -7.8453      6.077     -1.291      0.197     -19.787       4.097\n",
      "poi_category_['Fast Food', 'Donairs']                           -10.8697      8.445     -1.287      0.199     -27.466       5.726\n",
      "poi_category_['Fast Food', 'Homemade Food']                      -6.5957      8.390     -0.786      0.432     -23.083       9.892\n",
      "poi_category_['Fast Food', 'Hookah Bars']                        15.0309      8.393      1.791      0.074      -1.463      31.524\n",
      "poi_category_['Fast Food', 'Turkish']                             7.1397      8.343      0.856      0.393      -9.256      23.535\n",
      "poi_category_['Fast Food']                                       -1.6578      2.835     -0.585      0.559      -7.230       3.914\n",
      "poi_category_['Food Delivery Services', 'Turkish', 'Italian']     8.5873      8.367      1.026      0.305      -7.856      25.031\n",
      "poi_category_['French']                                          -1.6076      5.983     -0.269      0.788     -13.365      10.150\n",
      "poi_category_['Gastropubs']                                      -5.1561      8.400     -0.614      0.540     -21.663      11.351\n",
      "poi_category_['Giblets']                                          0.5406      8.364      0.065      0.948     -15.896      16.978\n",
      "poi_category_['Gozleme']                                         -3.3402      8.365     -0.399      0.690     -19.779      13.098\n",
      "poi_category_['Homemade Food']                                    1.4255      8.362      0.170      0.865     -15.009      17.860\n",
      "poi_category_['Hotels', 'Cafes', 'Coffee & Tea']                 -3.6310      8.379     -0.433      0.665     -20.097      12.835\n",
      "poi_category_['Ice Cream & Frozen Yogurt', 'Restaurants']         7.3590      8.375      0.879      0.380      -9.100      23.818\n",
      "poi_category_['Italian', 'Bars']                                  6.3652      8.511      0.748      0.455     -10.361      23.091\n",
      "poi_category_['Italian', 'Cafes']                                 4.8381      8.402      0.576      0.565     -11.673      21.349\n",
      "poi_category_['Italian']                                          1.4548      4.870      0.299      0.765      -8.117      11.026\n",
      "poi_category_['Japanese']                                        -2.5929      8.334     -0.311      0.756     -18.972      13.786\n",
      "poi_category_['Kebab', 'Lahmacun', 'Pita']                       -9.6518      8.411     -1.147      0.252     -26.182       6.878\n",
      "poi_category_['Kebab']                                            0.1453      8.363      0.017      0.986     -16.290      16.580\n",
      "poi_category_['Lahmacun', 'Kebab']                               -4.5365      8.358     -0.543      0.588     -20.963      11.890\n",
      "poi_category_['Lahmacun']                                        -0.1680      8.351     -0.020      0.984     -16.580      16.244\n",
      "poi_category_['Meatballs']                                        0.4482      3.488      0.129      0.898      -6.406       7.302\n",
      "poi_category_['Mediterranean', 'Turkish', 'Seafood']             -7.5740      8.448     -0.897      0.370     -24.176       9.028\n",
      "poi_category_['Pita']                                            -5.8466      5.935     -0.985      0.325     -17.510       5.817\n",
      "poi_category_['Pizza', 'Pita']                                   -8.3280      8.377     -0.994      0.321     -24.790       8.134\n",
      "poi_category_['Pizza']                                           -5.7564      3.475     -1.656      0.098     -12.586       1.073\n",
      "poi_category_['Pubs', 'Burgers', 'Pizza']                        -4.2770      8.352     -0.512      0.609     -20.691      12.137\n",
      "poi_category_['Pubs', 'Cafes', 'Coffee & Tea']                  -16.2979      5.939     -2.744      0.006     -27.970      -4.626\n",
      "poi_category_['Pubs', 'Restaurants']                             -6.0708      8.351     -0.727      0.468     -22.482      10.340\n",
      "poi_category_['Pubs', 'Turkish']                                  8.2141     10.757      0.764      0.446     -12.927      29.355\n",
      "poi_category_['Restaurants']                                      6.4381     10.733      0.600      0.549     -14.655      27.532\n",
      "poi_category_['Russian']                                        -13.4457      8.356     -1.609      0.108     -29.867       2.976\n",
      "poi_category_['Sandwiches']                                      14.6659      8.385      1.749      0.081      -1.813      31.145\n",
      "poi_category_['Seafood Markets', 'Restaurants']                  -5.5202      6.815     -0.810      0.418     -18.914       7.873\n",
      "poi_category_['Seafood', 'Food Stands']                          17.7544      8.378      2.119      0.035       1.290      34.219\n",
      "poi_category_['Seafood', 'Turkish', 'Breakfast & Brunch']        -5.8287      8.340     -0.699      0.485     -22.219      10.562\n",
      "poi_category_['Seafood', 'Turkish']                               8.1888      8.352      0.980      0.327      -8.225      24.603\n",
      "poi_category_['Seafood']                                          2.6970      1.840      1.466      0.143      -0.919       6.313\n",
      "poi_category_['Soup']                                            -4.8918      8.346     -0.586      0.558     -21.294      11.510\n",
      "poi_category_['Tabernas']                                        23.3181      8.366      2.787      0.006       6.877      39.760\n",
      "poi_category_['Tapas/Small Plates', 'Pubs']                      -4.8895      8.361     -0.585      0.559     -21.320      11.541\n",
      "poi_category_['Turkish Ravioli', 'Breakfast & Brunch']            5.4862      8.438      0.650      0.516     -11.097      22.069\n",
      "poi_category_['Turkish', 'Bakeries']                             -4.8693      8.345     -0.583      0.560     -21.270      11.531\n",
      "poi_category_['Turkish', 'Barbeque']                              0.8420      5.949      0.142      0.888     -10.849      12.533\n",
      "poi_category_['Turkish', 'Breakfast & Brunch', 'Cafes']           3.2930      8.473      0.389      0.698     -13.357      19.943\n",
      "poi_category_['Turkish', 'Breakfast & Brunch']                    6.8126      8.368      0.814      0.416      -9.632      23.257\n",
      "poi_category_['Turkish', 'Chinese', 'Barbeque']                   0.6187      8.367      0.074      0.941     -15.824      17.061\n",
      "poi_category_['Turkish', 'Diners']                               -5.4604      8.353     -0.654      0.514     -21.876      10.955\n",
      "poi_category_['Turkish', 'Fish & Chips']                          0.0184      8.364      0.002      0.998     -16.420      16.456\n",
      "poi_category_['Turkish', 'Greek']                                -6.0526      8.340     -0.726      0.468     -22.442      10.337\n",
      "poi_category_['Turkish', 'Italian', 'Sandwiches']                -7.9169      8.369     -0.946      0.345     -24.364       8.530\n",
      "poi_category_['Turkish', 'Kebab', 'Tabernas']                    -7.2832      8.540     -0.853      0.394     -24.066       9.500\n",
      "poi_category_['Turkish', 'Kebab']                                -2.7354      2.530     -1.081      0.280      -7.708       2.238\n",
      "poi_category_['Turkish', 'Lounges', 'Music Venues']              -4.4582      8.383     -0.532      0.595     -20.933      12.016\n",
      "poi_category_['Turkish', 'Meatballs']                             3.8468      5.933      0.648      0.517      -7.812      15.506\n",
      "poi_category_['Turkish', 'Mediterranean']                         8.6505      8.364      1.034      0.302      -7.787      25.088\n",
      "poi_category_['Turkish', 'Pizza']                                 0.9282      8.331      0.111      0.911     -15.445      17.301\n",
      "poi_category_['Turkish', 'Pubs']                                  7.6102      8.382      0.908      0.364      -8.863      24.083\n",
      "poi_category_['Turkish', 'Rice']                                -14.8174      8.370     -1.770      0.077     -31.266       1.631\n",
      "poi_category_['Turkish', 'Seafood', 'Breakfast & Brunch']         9.5249      8.518      1.118      0.264      -7.214      26.264\n",
      "poi_category_['Turkish', 'Seafood', 'Buffets']                    2.5228      8.350      0.302      0.763     -13.888      18.933\n",
      "poi_category_['Turkish', 'Seafood']                               7.0663      5.957      1.186      0.236      -4.641      18.774\n",
      "poi_category_['Turkish', 'Steakhouses']                          -4.1405      8.493     -0.488      0.626     -20.831      12.550\n",
      "poi_category_['Turkish']                                         -5.2931      1.306     -4.054      0.000      -7.859      -2.727\n",
      "poi_category_['Vegan', 'Cafes']                                   3.5190      8.352      0.421      0.674     -12.894      19.932\n",
      "source_yelp                                                       0.5251      6.153      0.085      0.932     -11.567      12.617\n",
      "poi_rating                                                       -1.4899      0.671     -2.222      0.027      -2.808      -0.172\n",
      "poi_latitude                                                    -66.0190     13.782     -4.790      0.000     -93.104     -38.934\n",
      "poi_longitude                                                   -36.4241      7.622     -4.779      0.000     -51.403     -21.445\n",
      "==============================================================================\n",
      "Omnibus:                       70.650   Durbin-Watson:                   0.712\n",
      "Prob(Omnibus):                  0.000   Jarque-Bera (JB):               94.369\n",
      "Skew:                           0.879   Prob(JB):                     3.22e-21\n",
      "Kurtosis:                       3.801   Cond. No.                     8.59e+17\n",
      "==============================================================================\n",
      "\n",
      "Notes:\n",
      "[1] Standard Errors assume that the covariance matrix of the errors is correctly specified.\n",
      "[2] The smallest eigenvalue is 1.84e-30. This might indicate that there are\n",
      "strong multicollinearity problems or that the design matrix is singular.\n"
     ]
    }
   ],
   "source": [
    "# Add a constant term for the OLS model\n",
    "X = sm.add_constant(X)\n",
    "\n",
    "# Create and fit the OLS regression model\n",
    "model = sm.OLS(y, X).fit()\n",
    "\n",
    "# Print the model summary\n",
    "print(model.summary())"
   ]
  },
  {
   "cell_type": "markdown",
   "metadata": {},
   "source": [
    "#### 3.4: Interpretation of the Regression Model Results"
   ]
  },
  {
   "cell_type": "markdown",
   "metadata": {},
   "source": [
    "The Ordinary Least Squares (OLS) regression model has yielded the following results:\n",
    "\n",
    "1. **R-squared**: The R-squared value is 0.370, meaning that approximately 37% of the variability in the number of bikes is explained by the model. This means a substantial portion of the variance is unexplained, suggesting that additional factors may be influencing the number of bikes at each station.\n",
    "\n",
    "2. **Adjusted R-squared**: The adjusted R-squared is 0.156, which is significantly lower than the R-squared value. This suggests that many of the predictors in the model may not be contributing meaningfully to explaining the variation in the target variable. The difference between the R-squared and adjusted R-squared values indicates that the inclusion of additional variables does not significantly improve the model’s fit.\n",
    "\n",
    "3. **F-statistic**: The F-statistic is 1.727 with a p-value of 7.51e-06, which indicates that the overall model is statistically significant. However, this result must be interpreted with caution due to the high number of predictors (154), many of which may not be individually significant.\n",
    "\n",
    "4. **Coefficients and Predictors**:\n",
    "   - **poi_rating**: The coefficient for `poi_rating` is -1.4899, with a p-value of 0.027, indicating a significant negative relationship. This suggests that as the POI rating increases by 1 unit, the number of bikes decreases by approximately 1.49, holding all else constant. This is somewhat counterintuitive and might warrant further investigation.\n",
    "   \n",
    "   - **poi_latitude and poi_longitude**: Both latitude and longitude have significant negative relationships with the number of bikes, with coefficients of -66.0190 and -36.4241, respectively. This indicates that geographical location is a significant factor in determining the number of bikes at a station. Specifically, as the latitude or longitude increases, the number of bikes tends to decrease.\n",
    "\n",
    "   - **Price Categories**: None of the price categories, including `poi_price_2.0`, `poi_price_3.0`, `poi_price_4.0`, and `poi_price_Unknown`, were statistically significant predictors of the number of bikes. This suggests that the price level of POIs in the vicinity may not be a meaningful factor in explaining bike availability.\n",
    "   \n",
    "   - **Category-Specific Predictors**: A few categories, such as `poi_category_Brasserie`, `poi_category_Bistros`, `poi_category_Tabernas`, and `poi_category_Seafood`, were significant positive predictors of the number of bikes, suggesting that certain types of POIs might be located near more popular bike stations. Other categories, such as `poi_category_Delis` and `poi_category_Chee Kufta`, had significant negative relationships with the number of bikes, indicating that these categories are associated with stations that tend to have fewer bikes.\n",
    "   \n",
    "   - **Multicollinearity Warning**: The model notes the possibility of strong multicollinearity (or singularity), as indicated by the condition number and the very small eigenvalue (1.84e-30). This suggests that some of the predictors may be highly correlated with each other, potentially inflating the standard errors of the coefficients and making it difficult to assess the individual impact of certain predictors.\n",
    "\n",
    "5. **Model Performance**:\n",
    "   - **Model Fit**: Although the model is statistically significant, the relatively low adjusted R-squared and multicollinearity issues suggest that this model may not provide the most accurate or robust predictions. Future work could involve removing or consolidating some of the highly correlated predictors or exploring alternative models (e.g., regularization techniques such as Ridge or Lasso regression).\n",
    "   \n",
    "   - **Residual Analysis**: The high skew and kurtosis values, combined with the significant Omnibus and Jarque-Bera test results, suggest that the residuals are not normally distributed. This violation of the OLS assumption could lead to unreliable estimates and affect the interpretation of the model's coefficients.\n",
    "\n",
    "### Summary:\n",
    "- **Significant Predictors**: Latitude, longitude, and `poi_rating` were significant predictors of the number of bikes. Additionally, a few POI categories, such as `Brasseries`, `Bistros`, `Tabernas`, and `Seafood`, had significant positive relationships with the number of bikes, while `Delis` and `Chee Kufta` had significant negative relationships.\n",
    "- **Model Limitations**: The model's explanatory power is moderate (R-squared = 0.370), but the adjusted R-squared is low (0.156), suggesting that many predictors may not contribute significantly to explaining the variation in the number of bikes. Multicollinearity and non-normal residuals may be affecting the model's performance.\n",
    "- **Next Steps**: Consider using feature selection or regularization techniques to address multicollinearity and improve the model's predictive accuracy. Additionally, investigating alternative models and transformations for the response variable could yield better insights."
   ]
  },
  {
   "cell_type": "markdown",
   "metadata": {},
   "source": [
    "### Section 4: Convert Regression to Classification Model"
   ]
  },
  {
   "cell_type": "markdown",
   "metadata": {},
   "source": [
    "#### 4.1. Problem Definition"
   ]
  },
  {
   "cell_type": "markdown",
   "metadata": {},
   "source": [
    "The goal is to convert the regression model into a classification model. We will create a binary target variable `is_high`, which indicates if the number of bikes is greater than 20."
   ]
  },
  {
   "cell_type": "markdown",
   "metadata": {},
   "source": [
    "#### 4.2. Data Preprocessing for Classification"
   ]
  },
  {
   "cell_type": "code",
   "execution_count": 27,
   "metadata": {},
   "outputs": [],
   "source": [
    "# Create a binary target variable 'is_high'\n",
    "df['is_high'] = df['number_of_bikes'].apply(lambda x: 1 if x > 20 else 0)\n",
    "\n",
    "# Define features and target variable\n",
    "X = df[['poi_rating', 'poi_latitude', 'poi_longitude']]\n",
    "y = df['is_high']\n",
    "\n",
    "# Split the data into training and test sets\n",
    "X_train, X_test, y_train, y_test = train_test_split(X, y, test_size=0.2, random_state=42)\n",
    "\n",
    "# Standardize the features\n",
    "scaler = StandardScaler()\n",
    "X_train = scaler.fit_transform(X_train)\n",
    "X_test = scaler.transform(X_test)"
   ]
  },
  {
   "cell_type": "markdown",
   "metadata": {},
   "source": [
    "#### 4.3. Fitting the Logistic Regression Model"
   ]
  },
  {
   "cell_type": "code",
   "execution_count": 28,
   "metadata": {},
   "outputs": [],
   "source": [
    "# Train the Logistic Regression model\n",
    "clf = LogisticRegression(random_state=42)\n",
    "clf.fit(X_train, y_train)\n",
    "\n",
    "# Use the model to make predictions\n",
    "y_pred = clf.predict(X_test)"
   ]
  },
  {
   "cell_type": "markdown",
   "metadata": {},
   "source": [
    "#### 4.4 Evaluating the Classification Model"
   ]
  },
  {
   "cell_type": "code",
   "execution_count": 29,
   "metadata": {},
   "outputs": [
    {
     "name": "stdout",
     "output_type": "stream",
     "text": [
      "Accuracy: 0.8688524590163934\n",
      "Precision: 0.75\n",
      "Recall: 0.3\n",
      "F1 Score: 0.42857142857142855\n"
     ]
    }
   ],
   "source": [
    "# Calculate evaluation metrics\n",
    "accuracy = accuracy_score(y_test, y_pred)\n",
    "precision = precision_score(y_test, y_pred)\n",
    "recall = recall_score(y_test, y_pred)\n",
    "f1 = f1_score(y_test, y_pred)\n",
    "\n",
    "# Print evaluation metrics\n",
    "print(f\"Accuracy: {accuracy}\")\n",
    "print(f\"Precision: {precision}\")\n",
    "print(f\"Recall: {recall}\")\n",
    "print(f\"F1 Score: {f1}\")"
   ]
  },
  {
   "cell_type": "markdown",
   "metadata": {},
   "source": [
    "#### 4.5. Interpretation of Classification Metrics"
   ]
  },
  {
   "cell_type": "markdown",
   "metadata": {},
   "source": [
    "- **Accuracy**: 87% (the model predicts correctly 87% of the time).\n",
    "- **Precision**: 75% (75% of predicted positives were correct).\n",
    "- **Recall**: 30% (the model only identifies 30% of all actual positives).\n",
    "- **F1 Score**: 0.42 (low due to imbalance between precision and recall)."
   ]
  },
  {
   "cell_type": "markdown",
   "metadata": {},
   "source": [
    "#### 5. Conclusion"
   ]
  },
  {
   "cell_type": "markdown",
   "metadata": {},
   "source": [
    "- The regression model shows that `poi_latitude` and `poi_longitude` are significant predictors of the number of bikes, but the model only explains 37% of the variation.\n",
    "- The logistic regression model provides reasonable accuracy (87%), but recall is low (30%). This suggests that while the model performs well overall, it struggles to identify all instances of high bike availability."
   ]
  }
 ],
 "metadata": {
  "kernelspec": {
   "display_name": "Python 3",
   "language": "python",
   "name": "python3"
  },
  "language_info": {
   "codemirror_mode": {
    "name": "ipython",
    "version": 3
   },
   "file_extension": ".py",
   "mimetype": "text/x-python",
   "name": "python",
   "nbconvert_exporter": "python",
   "pygments_lexer": "ipython3",
   "version": "3.11.9"
  }
 },
 "nbformat": 4,
 "nbformat_minor": 4
}
