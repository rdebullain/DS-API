{
 "cells": [
  {
   "cell_type": "markdown",
   "metadata": {},
   "source": [
    "# Notebook 2: Yelp and Foursquare Data Analysis (EDA)"
   ]
  },
  {
   "cell_type": "markdown",
   "metadata": {},
   "source": [
    "### Section 1: Importing Libraries"
   ]
  },
  {
   "cell_type": "code",
   "execution_count": 1,
   "metadata": {},
   "outputs": [],
   "source": [
    "# Importing necessary libraries for API requests, data handling, and visualization\n",
    "import os\n",
    "import requests\n",
    "import pandas as pd\n",
    "import json\n",
    "import matplotlib.pyplot as plt\n",
    "import seaborn as sns\n",
    "from pprint import pprint"
   ]
  },
  {
   "cell_type": "markdown",
   "metadata": {},
   "source": [
    "### Section 2: Defining Classes"
   ]
  },
  {
   "cell_type": "code",
   "execution_count": 2,
   "metadata": {},
   "outputs": [],
   "source": [
    "# Define a POI (Point of Interest) class to represent each POI\n",
    "class POI:\n",
    "    def __init__(self, name, latitude, longitude, rating=None, price=None, category=None, tel=None, address=None, distance=None):\n",
    "        self.name = name\n",
    "        self.latitude = latitude\n",
    "        self.longitude = longitude\n",
    "        self.rating = rating\n",
    "        self.price = price\n",
    "        self.category = category\n",
    "        self.tel = tel\n",
    "        self.address = address\n",
    "        self.distance = distance\n",
    "\n",
    "    def to_dict(self):\n",
    "        return {\n",
    "            \"restaurant_name\": self.name,\n",
    "            \"restaurant_latitude\": self.latitude,\n",
    "            \"restaurant_longitude\": self.longitude,\n",
    "            \"rating\": self.rating,\n",
    "            \"price\": self.price,\n",
    "            \"category\": self.category,\n",
    "            \"tel\": self.tel,\n",
    "            \"address\": self.address,\n",
    "            \"distance\": self.distance\n",
    "        }\n",
    "\n",
    "    def __repr__(self):\n",
    "        return f\"POI({self.name}, {self.latitude}, {self.longitude}, {self.rating}, {self.price}, {self.category})\"\n",
    "\n",
    "# Define a POINetwork class to handle multiple POIs\n",
    "class POINetwork:\n",
    "    def __init__(self):\n",
    "        self.pois = []\n",
    "\n",
    "    def add_poi(self, poi):\n",
    "        if isinstance(poi, POI):\n",
    "            self.pois.append(poi)\n",
    "\n",
    "    def to_dataframe(self):\n",
    "        return pd.DataFrame([poi.to_dict() for poi in self.pois])\n",
    "\n",
    "    def save_to_csv(self, filename):\n",
    "        df = self.to_dataframe()\n",
    "        df.to_csv(filename, index=False)\n",
    "\n",
    "    def load_from_csv(self, filename):\n",
    "        df = pd.read_csv(filename)\n",
    "        for _, row in df.iterrows():\n",
    "            self.add_poi(POI(**row.to_dict()))\n",
    "\n",
    "    def __repr__(self):\n",
    "        return f\"POINetwork({len(self.pois)} POIs)\""
   ]
  },
  {
   "cell_type": "markdown",
   "metadata": {},
   "source": [
    "### Section 3: Fetching Data from APIs"
   ]
  },
  {
   "cell_type": "markdown",
   "metadata": {},
   "source": [
    "#### Foursquare API"
   ]
  },
  {
   "cell_type": "code",
   "execution_count": 3,
   "metadata": {},
   "outputs": [],
   "source": [
    "# Utility function to fetch data from Foursquare\n",
    "def fetch_foursquare_data(lat, lon, radius=1000, query='restaurant'):\n",
    "    \"\"\"Fetch data from Foursquare API.\"\"\"\n",
    "    foursquare_api_key = os.getenv('foursquare_api_key')\n",
    "    headers = {\n",
    "        \"accept\": \"application/json\",\n",
    "        \"Authorization\": foursquare_api_key\n",
    "    }\n",
    "    params = {\n",
    "        \"ll\": f\"{lat},{lon}\",\n",
    "        \"radius\": radius,\n",
    "        \"query\": query,\n",
    "        \"fields\": \"fsq_id,name,geocodes,location,categories,distance,rating,price,tel\"\n",
    "    }\n",
    "\n",
    "    response = requests.get(\"https://api.foursquare.com/v3/places/search\", headers=headers, params=params)\n",
    "    if response.status_code == 200:\n",
    "        return response.json()\n",
    "    else:\n",
    "        print(f\"Error: {response.status_code} | {response.text}\")\n",
    "        return {}\n",
    "\n",
    "# Parse Foursquare response into POIs\n",
    "def parse_foursquare_pois(response):\n",
    "    pois = POINetwork()\n",
    "    for poi in response.get('results', []):\n",
    "        category = poi.get('categories', [{}])[0].get('short_name', None)\n",
    "        pois.add_poi(POI(\n",
    "            name=poi.get('name'),\n",
    "            latitude=poi.get('geocodes', {}).get('main', {}).get('latitude'),\n",
    "            longitude=poi.get('geocodes', {}).get('main', {}).get('longitude'),\n",
    "            rating=poi.get('rating'),\n",
    "            price=poi.get('price'),\n",
    "            category=category,\n",
    "            tel=poi.get('tel'),\n",
    "            address=poi.get('location', {}).get('formatted_address', None),\n",
    "            distance=poi.get('distance')\n",
    "        ))\n",
    "    return pois"
   ]
  },
  {
   "cell_type": "markdown",
   "metadata": {},
   "source": [
    "#### Yelp API"
   ]
  },
  {
   "cell_type": "code",
   "execution_count": 4,
   "metadata": {},
   "outputs": [],
   "source": [
    "# Utility function to fetch data from Yelp\n",
    "def fetch_yelp_data(lat, lon, radius=1000, term='restaurant'):\n",
    "    \"\"\"Fetch data from Yelp API.\"\"\"\n",
    "    yelp_api_key = os.getenv(\"yelp_api_key\")\n",
    "    headers = {\n",
    "        \"accept\": \"application/json\",\n",
    "        \"Authorization\": f\"Bearer {yelp_api_key}\"\n",
    "    }\n",
    "    params = {\n",
    "        \"latitude\": lat,\n",
    "        \"longitude\": lon,\n",
    "        \"radius\": radius,\n",
    "        \"term\": term\n",
    "    }\n",
    "\n",
    "    response = requests.get(\"https://api.yelp.com/v3/businesses/search\", headers=headers, params=params)\n",
    "    if response.status_code == 200:\n",
    "        return response.json()\n",
    "    else:\n",
    "        print(f\"Error: {response.status_code} | {response.text}\")\n",
    "        return {}\n",
    "\n",
    "# Parse Yelp response into POIs\n",
    "def parse_yelp_pois(response):\n",
    "    pois = POINetwork()\n",
    "    for business in response.get('businesses', []):\n",
    "        category = [cat.get('title') for cat in business.get('categories', [{}])]\n",
    "        pois.add_poi(POI(\n",
    "            name=business.get('name'),\n",
    "            latitude=business.get('coordinates', {}).get('latitude'),\n",
    "            longitude=business.get('coordinates', {}).get('longitude'),\n",
    "            rating=business.get('rating'),\n",
    "            price=business.get('price'),\n",
    "            category=category,\n",
    "            tel=business.get('phone'),\n",
    "            address=', '.join(business.get('location', {}).get('display_address', [])),\n",
    "            distance=business.get('distance')\n",
    "        ))\n",
    "    return pois"
   ]
  },
  {
   "cell_type": "markdown",
   "metadata": {},
   "source": [
    "### Section 4: Data Integration and Saving"
   ]
  },
  {
   "cell_type": "code",
   "execution_count": null,
   "metadata": {},
   "outputs": [],
   "source": [
    "# Main function to fetch POIs for all bike stations\n",
    "def fetch_pois_for_bike_stations(filename):\n",
    "    \"\"\"Fetch POIs from Foursquare and Yelp for all bike stations in the given file.\"\"\"\n",
    "    bike_stations = pd.read_csv(filename)\n",
    "\n",
    "    foursquare_network = POINetwork()\n",
    "    yelp_network = POINetwork()\n",
    "\n",
    "    for _, row in bike_stations.iterrows():\n",
    "        lat, lon = row[\"bike_station_latitude\"], row[\"bike_station_longitude\"]\n",
    "\n",
    "        # Fetch and parse Foursquare data\n",
    "        foursquare_response = fetch_foursquare_data(lat, lon)\n",
    "        foursquare_network.pois.extend(parse_foursquare_pois(foursquare_response).pois)\n",
    "\n",
    "        # Fetch and parse Yelp data\n",
    "        yelp_response = fetch_yelp_data(lat, lon)\n",
    "        yelp_network.pois.extend(parse_yelp_pois(yelp_response).pois)\n",
    "\n",
    "    return foursquare_network, yelp_network\n",
    "\n",
    "# Define project directory and file paths\n",
    "project_dir = os.getcwd()\n",
    "bike_stations_file = os.path.join(project_dir, 'bike_stations.csv')\n",
    "foursquare_pois_file = os.path.join(project_dir, 'foursquare_pois.csv')\n",
    "yelp_pois_file = os.path.join(project_dir, 'yelp_pois.csv')\n",
    "\n",
    "# Fetch POIs and save to CSV\n",
    "foursquare_network, yelp_network = fetch_pois_for_bike_stations(bike_stations_file)\n",
    "foursquare_network.save_to_csv(foursquare_pois_file)\n",
    "yelp_network.save_to_csv(yelp_pois_file)"
   ]
  },
  {
   "cell_type": "markdown",
   "metadata": {},
   "source": [
    "### Section 5: Data Exploration and Visualization"
   ]
  },
  {
   "cell_type": "code",
   "execution_count": null,
   "metadata": {},
   "outputs": [],
   "source": [
    "# Load data for visualization\n",
    "foursquare_df = pd.read_csv(foursquare_pois_file)\n",
    "yelp_df = pd.read_csv(yelp_pois_file)\n",
    "\n",
    "# Add source columns\n",
    "foursquare_df['source'] = 'foursquare'\n",
    "yelp_df['source'] = 'yelp'\n",
    "\n",
    "# Normalize Foursquare ratings to a 5-point scale\n",
    "foursquare_df['rating'] = foursquare_df['rating'] / 2\n",
    "\n",
    "# Combine both datasets\n",
    "pois_df = pd.concat([foursquare_df, yelp_df], ignore_index=True).drop_duplicates(subset='restaurant_name')\n",
    "\n",
    "# Geographical Distribution of POIs\n",
    "plt.figure(figsize=(10, 6))\n",
    "sns.scatterplot(data=pois_df, x='restaurant_longitude', y='restaurant_latitude', hue='source', alpha=0.6, s=100)\n",
    "plt.title('Geographical Distribution of POIs by Source')\n",
    "plt.xlabel('Longitude')\n",
    "plt.ylabel('Latitude')\n",
    "plt.legend(title='Source')\n",
    "plt.grid(True)\n",
    "plt.show()"
   ]
  },
  {
   "cell_type": "code",
   "execution_count": null,
   "metadata": {},
   "outputs": [],
   "source": [
    "# Comparison of Key Attributes (Ratings and Price Levels)\n",
    "plt.figure(figsize=(14, 6))\n",
    "\n",
    "# Average Ratings\n",
    "plt.subplot(1, 2, 1)\n",
    "sns.boxplot(data=pois_df, x='source', y='rating', palette='Set2')\n",
    "plt.title('Average Ratings by Source')\n",
    "plt.xlabel('Source')\n",
    "plt.ylabel('Rating')\n",
    "plt.grid(True)\n",
    "\n",
    "# Filter categories with count of 10 or higher\n",
    "category_counts = pois_df['category'].value_counts()\n",
    "valid_categories = category_counts[category_counts >= 10].index\n",
    "filtered_pois_df = pois_df[pois_df['category'].isin(valid_categories)]\n",
    "\n",
    "# Number of POIs by Category (count >= 10)\n",
    "plt.figure(figsize=(12, 6))\n",
    "sns.countplot(data=filtered_pois_df, x='category', hue='source', dodge=True, palette='Set2')\n",
    "plt.title('Number of POIs by Category and Source (Count >= 10)')\n",
    "plt.xticks(rotation=45, ha='right')\n",
    "plt.xlabel('Category')\n",
    "plt.ylabel('Count')\n",
    "plt.legend(title='Source')\n",
    "plt.grid(True)\n",
    "plt.tight_layout()\n",
    "plt.show()"
   ]
  },
  {
   "cell_type": "markdown",
   "metadata": {},
   "source": [
    "### Section 6: Completeness Analysis"
   ]
  },
  {
   "cell_type": "code",
   "execution_count": null,
   "metadata": {},
   "outputs": [],
   "source": [
    "# Comparing Completeness of Yelp vs Foursquare\n",
    "key_attributes = ['rating', 'price', 'category', 'address', 'restaurant_latitude', 'restaurant_longitude']\n",
    "completeness = pois_df.groupby('source')[key_attributes].apply(lambda x: x.notnull().mean() * 100)\n",
    "\n",
    "# Overall Completeness Score\n",
    "overall_completeness = completeness.mean(axis=1)\n",
    "\n",
    "# Unique POIs and Category Diversity\n",
    "unique_pois = pois_df.groupby('source').size()\n",
    "category_diversity = pois_df.groupby('source')['category'].nunique()\n",
    "\n",
    "# Visualization of Completeness Metrics\n",
    "plt.figure(figsize=(10, 6))\n",
    "completeness.T.plot(kind='bar')\n",
    "plt.title(\"Completeness of Key Attributes by Source\")\n",
    "plt.xlabel(\"Attribute\")\n",
    "plt.ylabel(\"Completeness (%)\")\n",
    "plt.legend(title='Source')\n",
    "plt.grid(True)\n",
    "plt.show()\n",
    "\n",
    "# Visualization of Unique POIs and Category Diversity\n",
    "coverage_df = pd.DataFrame({'unique_pois': unique_pois, 'category_diversity': category_diversity})\n",
    "\n",
    "plt.figure(figsize=(10, 6))\n",
    "coverage_df.plot(kind='bar', ax=plt.gca())\n",
    "plt.title(\"Unique POIs and Category Diversity by Source\")\n",
    "plt.ylabel(\"Count\")\n",
    "plt.legend(title='Metric')\n",
    "plt.grid(True)\n",
    "plt.tight_layout()\n",
    "plt.show()"
   ]
  },
  {
   "cell_type": "code",
   "execution_count": null,
   "metadata": {},
   "outputs": [],
   "source": [
    "# Conclusion and Discussion of Results\n",
    "if unique_pois['foursquare'] > unique_pois['yelp']:\n",
    "    print(\"\\nFoursquare provided more unique POIs than Yelp.\")\n",
    "else:\n",
    "    print(\"\\nYelp provided more unique POIs than Foursquare.\")\n",
    "\n",
    "if category_diversity['foursquare'] > category_diversity['yelp']:\n",
    "    print(\"Foursquare provided greater diversity of categories than Yelp.\")\n",
    "else:\n",
    "    print(\"Yelp provided greater diversity of categories than Foursquare.\")\n",
    "\n",
    "more_complete = 'foursquare' if overall_completeness['foursquare'] > overall_completeness['yelp'] else 'yelp'\n",
    "print(f\"\\n{more_complete.capitalize()} provided more complete data based on overall completeness of key attributes.\")"
   ]
  },
  {
   "cell_type": "markdown",
   "metadata": {},
   "source": [
    "### Section 7: Analysis of Top 10 Restaurants by Rating"
   ]
  },
  {
   "cell_type": "code",
   "execution_count": null,
   "metadata": {},
   "outputs": [],
   "source": [
    "# Get the top 10 restaurants according to their rating\n",
    "pois_with_ratings_df = pois_df[pois_df['rating'].notnull()]\n",
    "\n",
    "# Sort by rating in descending order\n",
    "sorted_pois_df = pois_with_ratings_df.sort_values(by='rating', ascending=False)\n",
    "\n",
    "# Get the top 10 restaurants\n",
    "top_10_restaurants = sorted_pois_df.head(10)\n",
    "\n",
    "# Display the top 10 restaurants\n",
    "top_10_restaurants = top_10_restaurants[['restaurant_name', 'rating', 'price', 'category', 'address', 'source']]\n",
    "print(\"Top 10 Restaurants by Rating:\")\n",
    "print(top_10_restaurants)"
   ]
  }
 ],
 "metadata": {
  "kernelspec": {
   "display_name": "Python 3",
   "language": "python",
   "name": "python3"
  },
  "language_info": {
   "codemirror_mode": {
    "name": "ipython",
    "version": 3
   },
   "file_extension": ".py",
   "mimetype": "text/x-python",
   "name": "python",
   "nbconvert_exporter": "python",
   "pygments_lexer": "ipython3",
   "version": "3.11.9"
  }
 },
 "nbformat": 4,
 "nbformat_minor": 4
}
