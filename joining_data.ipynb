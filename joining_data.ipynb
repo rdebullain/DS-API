{
 "cells": [
  {
   "cell_type": "markdown",
   "metadata": {},
   "source": [
    "### Join the data from Part 1 with the data from Part 2 to create a new dataframe."
   ]
  },
  {
   "cell_type": "code",
   "execution_count": 1,
   "metadata": {},
   "outputs": [],
   "source": [
    "import os\n",
    "import pandas as pd\n",
    "import matplotlib.pyplot as plt\n",
    "import seaborn as sns\n",
    "from geopy.distance import great_circle"
   ]
  },
  {
   "cell_type": "code",
   "execution_count": 2,
   "metadata": {},
   "outputs": [],
   "source": [
    "# Load Part 1: Bike Stations Data\n",
    "bike_stations_df = pd.read_csv('bike_stations.csv')"
   ]
  },
  {
   "cell_type": "code",
   "execution_count": 3,
   "metadata": {},
   "outputs": [],
   "source": [
    "# Load Part 2: Combined Foursquare and Yelp POIs Data\n",
    "foursquare_df = pd.read_csv('foursquare_pois.csv')\n",
    "yelp_df = pd.read_csv('yelp_pois.csv')"
   ]
  },
  {
   "cell_type": "code",
   "execution_count": 4,
   "metadata": {},
   "outputs": [],
   "source": [
    "# Add source columns\n",
    "foursquare_df['source'] = 'foursquare'\n",
    "yelp_df['source'] = 'yelp'"
   ]
  },
  {
   "cell_type": "code",
   "execution_count": 5,
   "metadata": {},
   "outputs": [],
   "source": [
    "# Combine both datasets\n",
    "pois_df = pd.concat([foursquare_df, yelp_df], ignore_index=True).drop_duplicates(subset='restaurant_name')"
   ]
  },
  {
   "cell_type": "code",
   "execution_count": 6,
   "metadata": {},
   "outputs": [],
   "source": [
    "# Initialize lists to hold the nearest bike station data\n",
    "nearest_station_names = []\n",
    "nearest_station_distances = []"
   ]
  },
  {
   "cell_type": "code",
   "execution_count": 7,
   "metadata": {},
   "outputs": [],
   "source": [
    "# Define a function to find the nearest bike station\n",
    "def find_nearest_bike_station(poi_lat, poi_lon):\n",
    "    distances = bike_stations_df.apply(\n",
    "        lambda row: great_circle((poi_lat, poi_lon), (row['bike_station_latitude'], row['bike_station_longitude'])).meters,\n",
    "        axis=1\n",
    "    )\n",
    "    nearest_index = distances.idxmin()\n",
    "    nearest_distance = distances.min()\n",
    "    nearest_station = bike_stations_df.iloc[nearest_index]['bike_station_name']\n",
    "    return nearest_station, nearest_distance"
   ]
  },
  {
   "cell_type": "code",
   "execution_count": 8,
   "metadata": {},
   "outputs": [],
   "source": [
    "# Calculate the nearest bike station for each POI\n",
    "for _, poi in pois_df.iterrows():\n",
    "    nearest_station_name, nearest_station_distance = find_nearest_bike_station(poi['restaurant_latitude'], poi['restaurant_longitude'])\n",
    "    nearest_station_names.append(nearest_station_name)\n",
    "    nearest_station_distances.append(nearest_station_distance)"
   ]
  },
  {
   "cell_type": "code",
   "execution_count": 9,
   "metadata": {},
   "outputs": [],
   "source": [
    "# Add the nearest bike station information to the POIs DataFrame\n",
    "pois_df['nearest_bike_station'] = nearest_station_names\n",
    "pois_df['distance_to_nearest_station'] = nearest_station_distances"
   ]
  },
  {
   "cell_type": "code",
   "execution_count": 10,
   "metadata": {},
   "outputs": [],
   "source": [
    "# Join the data by merging on the nearest bike station\n",
    "final_df = pd.merge(pois_df, bike_stations_df, how='inner', left_on='nearest_bike_station', right_on='bike_station_name')"
   ]
  },
  {
   "cell_type": "code",
   "execution_count": 11,
   "metadata": {},
   "outputs": [],
   "source": [
    "# Rename columns for clarity\n",
    "final_df.rename(columns={\n",
    "    'restaurant_name': 'poi_name',\n",
    "    'rating': 'poi_rating',\n",
    "    'price': 'poi_price',\n",
    "    'category': 'poi_category',\n",
    "    'address': 'poi_address',\n",
    "    'restaurant_latitude': 'poi_latitude',\n",
    "    'restaurant_longitude': 'poi_longitude'\n",
    "}, inplace=True)"
   ]
  },
  {
   "cell_type": "code",
   "execution_count": 12,
   "metadata": {},
   "outputs": [],
   "source": [
    "# Select relevant columns for the final DataFrame\n",
    "final_df = final_df[[\n",
    "    'poi_name', 'poi_rating', 'poi_price', 'poi_category', 'poi_address',\n",
    "    'poi_latitude', 'poi_longitude', 'source',\n",
    "    'nearest_bike_station', 'distance_to_nearest_station',\n",
    "    'bike_station_name', 'bike_station_latitude', 'bike_station_longitude', 'number_of_bikes'\n",
    "]]"
   ]
  },
  {
   "cell_type": "markdown",
   "metadata": {},
   "source": [
    "#### Data Auditing"
   ]
  },
  {
   "cell_type": "code",
   "execution_count": 13,
   "metadata": {},
   "outputs": [],
   "source": [
    "# Check for missing values\n",
    "missing_values = final_df.isnull().sum()"
   ]
  },
  {
   "cell_type": "code",
   "execution_count": 14,
   "metadata": {},
   "outputs": [],
   "source": [
    "# Check for duplicates\n",
    "duplicates_count = final_df.duplicated().sum()"
   ]
  },
  {
   "cell_type": "code",
   "execution_count": 15,
   "metadata": {},
   "outputs": [],
   "source": [
    "# Review data types and statistical summaries\n",
    "data_types = final_df.dtypes\n",
    "summary_statistics = final_df.describe(include='all')"
   ]
  },
  {
   "cell_type": "code",
   "execution_count": 16,
   "metadata": {},
   "outputs": [
    {
     "name": "stdout",
     "output_type": "stream",
     "text": [
      "### Data Auditing Results ###\n",
      "\n",
      "Missing Values per Column:\n",
      "poi_name                         0\n",
      "poi_rating                      26\n",
      "poi_price                      244\n",
      "poi_category                     0\n",
      "poi_address                     27\n",
      "poi_latitude                     0\n",
      "poi_longitude                    0\n",
      "source                           0\n",
      "nearest_bike_station             0\n",
      "distance_to_nearest_station      0\n",
      "bike_station_name                0\n",
      "bike_station_latitude            0\n",
      "bike_station_longitude           0\n",
      "number_of_bikes                  0\n",
      "dtype: int64\n",
      "\n",
      "Total Duplicates: 0\n",
      "\n",
      "Data Types:\n",
      "poi_name                        object\n",
      "poi_rating                     float64\n",
      "poi_price                       object\n",
      "poi_category                    object\n",
      "poi_address                     object\n",
      "poi_latitude                   float64\n",
      "poi_longitude                  float64\n",
      "source                          object\n",
      "nearest_bike_station            object\n",
      "distance_to_nearest_station    float64\n",
      "bike_station_name               object\n",
      "bike_station_latitude          float64\n",
      "bike_station_longitude         float64\n",
      "number_of_bikes                  int64\n",
      "dtype: object\n",
      "\n",
      "Statistical Summary:\n",
      "                                  poi_name  poi_rating  poi_price  \\\n",
      "count                                  633  607.000000      389.0   \n",
      "unique                                 633         NaN        8.0   \n",
      "top     Serkan Hamza | Midye Balık Kokoreç         NaN        2.0   \n",
      "freq                                     1         NaN      156.0   \n",
      "mean                                   NaN    6.188633        NaN   \n",
      "std                                    NaN    2.181626        NaN   \n",
      "min                                    NaN    0.000000        NaN   \n",
      "25%                                    NaN    4.000000        NaN   \n",
      "50%                                    NaN    6.700000        NaN   \n",
      "75%                                    NaN    8.300000        NaN   \n",
      "max                                    NaN    9.500000        NaN   \n",
      "\n",
      "       poi_category poi_address  poi_latitude  poi_longitude      source  \\\n",
      "count           633         606    633.000000     633.000000         633   \n",
      "unique          149         565           NaN            NaN           2   \n",
      "top            Café       İzmir           NaN            NaN  foursquare   \n",
      "freq             84          23           NaN            NaN         343   \n",
      "mean            NaN         NaN     38.433470      27.113384         NaN   \n",
      "std             NaN         NaN      0.028936       0.053480         NaN   \n",
      "min             NaN         NaN     38.372559      26.878651         NaN   \n",
      "25%             NaN         NaN     38.406987      27.084511         NaN   \n",
      "50%             NaN         NaN     38.432435      27.118133         NaN   \n",
      "75%             NaN         NaN     38.460220      27.142635         NaN   \n",
      "max             NaN         NaN     38.511688      27.322201         NaN   \n",
      "\n",
      "       nearest_bike_station  distance_to_nearest_station bike_station_name  \\\n",
      "count                   633                   633.000000               633   \n",
      "unique                   45                          NaN                45   \n",
      "top        Karşıyaka iskele                          NaN  Karşıyaka iskele   \n",
      "freq                     31                          NaN                31   \n",
      "mean                    NaN                   396.631914               NaN   \n",
      "std                     NaN                   731.917710               NaN   \n",
      "min                     NaN                     8.310647               NaN   \n",
      "25%                     NaN                   177.926072               NaN   \n",
      "50%                     NaN                   286.881179               NaN   \n",
      "75%                     NaN                   457.283086               NaN   \n",
      "max                     NaN                 10901.143788               NaN   \n",
      "\n",
      "        bike_station_latitude  bike_station_longitude  number_of_bikes  \n",
      "count              633.000000              633.000000       633.000000  \n",
      "unique                    NaN                     NaN              NaN  \n",
      "top                       NaN                     NaN              NaN  \n",
      "freq                      NaN                     NaN              NaN  \n",
      "mean                38.433690               27.112886        18.271722  \n",
      "std                  0.028022                0.051246         9.328165  \n",
      "min                 38.381967               26.958984         0.000000  \n",
      "25%                 38.409009               27.083751        12.000000  \n",
      "50%                 38.433102               27.120123        15.000000  \n",
      "75%                 38.460954               27.142266        20.000000  \n",
      "max                 38.487952               27.211666        40.000000  \n"
     ]
    }
   ],
   "source": [
    "# Print auditing results\n",
    "print(\"### Data Auditing Results ###\\n\")\n",
    "print(\"Missing Values per Column:\")\n",
    "print(missing_values)\n",
    "print(\"\\nTotal Duplicates:\", duplicates_count)\n",
    "print(\"\\nData Types:\")\n",
    "print(data_types)\n",
    "print(\"\\nStatistical Summary:\")\n",
    "print(summary_statistics)"
   ]
  },
  {
   "cell_type": "markdown",
   "metadata": {},
   "source": [
    "#### Data Cleaning"
   ]
  },
  {
   "cell_type": "code",
   "execution_count": 17,
   "metadata": {},
   "outputs": [],
   "source": [
    "# Remove duplicates\n",
    "final_df_clean = final_df.drop_duplicates()"
   ]
  },
  {
   "cell_type": "code",
   "execution_count": 18,
   "metadata": {},
   "outputs": [],
   "source": [
    "# Fill missing categories with \"Unknown\"\n",
    "final_df_clean['poi_category'] = final_df_clean['poi_category'].fillna('Unknown')"
   ]
  },
  {
   "cell_type": "code",
   "execution_count": 19,
   "metadata": {},
   "outputs": [],
   "source": [
    "# Fill missing prices with \"Unknown\"\n",
    "final_df_clean['poi_price'] = final_df_clean['poi_price'].fillna('Unknown')"
   ]
  },
  {
   "cell_type": "code",
   "execution_count": 20,
   "metadata": {},
   "outputs": [],
   "source": [
    "# Fill missing address with \"Unknown\"\n",
    "final_df_clean['poi_address'] = final_df_clean['poi_address'].fillna('Unknown')"
   ]
  },
  {
   "cell_type": "code",
   "execution_count": 21,
   "metadata": {},
   "outputs": [],
   "source": [
    "# Remove rows where essential data like 'poi_name' or 'poi_rating' is missing\n",
    "final_df_clean = final_df_clean[final_df_clean['poi_name'].notnull() & final_df_clean['poi_rating'].notnull()]"
   ]
  },
  {
   "cell_type": "code",
   "execution_count": 22,
   "metadata": {},
   "outputs": [],
   "source": [
    "# Convert data types\n",
    "# Ensure that the latitude and longitude columns are floats\n",
    "final_df_clean['poi_latitude'] = final_df_clean['poi_latitude'].astype(float)\n",
    "final_df_clean['poi_longitude'] = final_df_clean['poi_longitude'].astype(float)\n",
    "final_df_clean['bike_station_latitude'] = final_df_clean['bike_station_latitude'].astype(float)\n",
    "final_df_clean['bike_station_longitude'] = final_df_clean['bike_station_longitude'].astype(float)"
   ]
  },
  {
   "cell_type": "code",
   "execution_count": 23,
   "metadata": {},
   "outputs": [],
   "source": [
    "# Save the cleaned DataFrame to a new CSV file\n",
    "final_df_clean.to_csv('cleaned_bike_stations_pois.csv', index=False)"
   ]
  },
  {
   "cell_type": "code",
   "execution_count": 24,
   "metadata": {},
   "outputs": [
    {
     "name": "stdout",
     "output_type": "stream",
     "text": [
      "\n",
      "### Data Cleaning Results ###\n",
      "\n",
      "Cleaned DataFrame Summary:\n",
      "<class 'pandas.core.frame.DataFrame'>\n",
      "Index: 607 entries, 0 to 632\n",
      "Data columns (total 14 columns):\n",
      " #   Column                       Non-Null Count  Dtype  \n",
      "---  ------                       --------------  -----  \n",
      " 0   poi_name                     607 non-null    object \n",
      " 1   poi_rating                   607 non-null    float64\n",
      " 2   poi_price                    607 non-null    object \n",
      " 3   poi_category                 607 non-null    object \n",
      " 4   poi_address                  607 non-null    object \n",
      " 5   poi_latitude                 607 non-null    float64\n",
      " 6   poi_longitude                607 non-null    float64\n",
      " 7   source                       607 non-null    object \n",
      " 8   nearest_bike_station         607 non-null    object \n",
      " 9   distance_to_nearest_station  607 non-null    float64\n",
      " 10  bike_station_name            607 non-null    object \n",
      " 11  bike_station_latitude        607 non-null    float64\n",
      " 12  bike_station_longitude       607 non-null    float64\n",
      " 13  number_of_bikes              607 non-null    int64  \n",
      "dtypes: float64(6), int64(1), object(7)\n",
      "memory usage: 71.1+ KB\n",
      "None\n",
      "\n",
      "Missing Values after Cleaning:\n",
      "poi_name                       0\n",
      "poi_rating                     0\n",
      "poi_price                      0\n",
      "poi_category                   0\n",
      "poi_address                    0\n",
      "poi_latitude                   0\n",
      "poi_longitude                  0\n",
      "source                         0\n",
      "nearest_bike_station           0\n",
      "distance_to_nearest_station    0\n",
      "bike_station_name              0\n",
      "bike_station_latitude          0\n",
      "bike_station_longitude         0\n",
      "number_of_bikes                0\n",
      "dtype: int64\n",
      "\n",
      "Sample Data:\n",
      "                             poi_name  poi_rating poi_price  \\\n",
      "0  Serkan Hamza | Midye Balık Kokoreç         8.6       1.0   \n",
      "1                   Carême Restaurant         8.5   Unknown   \n",
      "2                 Angel 35 Tekne Turu         8.0       3.0   \n",
      "3                Brasserie Restaurant         6.7       2.0   \n",
      "4          Veli Usta Balık Pişiricisi         8.5       3.0   \n",
      "\n",
      "          poi_category                                        poi_address  \\\n",
      "0              Seafood                    Başak Sok No: 53, 35330 Balçova   \n",
      "1  Dining and Drinking                 İnciraltı Cad No:67, 35330 Balçova   \n",
      "2              Seafood                 Müze Gemiler Yanı İnciraltı, İzmir   \n",
      "3            Breakfast                       Akpýnar Cad, No: 17, Demirci   \n",
      "4              Seafood  İnciraltı Cad, 10 Sok, No: 179 / A, İnciraltı ...   \n",
      "\n",
      "   poi_latitude  poi_longitude      source        nearest_bike_station  \\\n",
      "0     38.411718      27.033210  foursquare  İnciraltı Rekreasyon Alanı   \n",
      "1     38.411444      27.031949  foursquare  İnciraltı Rekreasyon Alanı   \n",
      "2     38.411373      27.034349  foursquare  İnciraltı Rekreasyon Alanı   \n",
      "3     38.411740      27.031932  foursquare  İnciraltı Rekreasyon Alanı   \n",
      "4     38.413158      27.030031  foursquare  İnciraltı Rekreasyon Alanı   \n",
      "\n",
      "   distance_to_nearest_station           bike_station_name  \\\n",
      "0                   195.539125  İnciraltı Rekreasyon Alanı   \n",
      "1                   224.751515  İnciraltı Rekreasyon Alanı   \n",
      "2                   273.716588  İnciraltı Rekreasyon Alanı   \n",
      "3                   193.412359  İnciraltı Rekreasyon Alanı   \n",
      "4                   223.372855  İnciraltı Rekreasyon Alanı   \n",
      "\n",
      "   bike_station_latitude  bike_station_longitude  number_of_bikes  \n",
      "0              38.413405               27.032575               40  \n",
      "1              38.413405               27.032575               40  \n",
      "2              38.413405               27.032575               40  \n",
      "3              38.413405               27.032575               40  \n",
      "4              38.413405               27.032575               40  \n"
     ]
    }
   ],
   "source": [
    "# Verify the cleaned data\n",
    "print(\"\\n### Data Cleaning Results ###\\n\")\n",
    "print(\"Cleaned DataFrame Summary:\")\n",
    "print(final_df_clean.info())\n",
    "print(\"\\nMissing Values after Cleaning:\")\n",
    "print(final_df_clean.isnull().sum())\n",
    "print(\"\\nSample Data:\")\n",
    "print(final_df_clean.head())"
   ]
  },
  {
   "cell_type": "markdown",
   "metadata": {},
   "source": [
    "#### Provide a visualization that you used as part of your EDA process. Explain the initial pattern or relationship you discovered through this visualization. "
   ]
  },
  {
   "cell_type": "code",
   "execution_count": 25,
   "metadata": {},
   "outputs": [],
   "source": [
    "# Load the cleaned data\n",
    "final_df_clean = pd.read_csv('cleaned_bike_stations_pois.csv')"
   ]
  },
  {
   "cell_type": "code",
   "execution_count": 26,
   "metadata": {},
   "outputs": [],
   "source": [
    "# Set the plot style\n",
    "sns.set_style(\"whitegrid\")"
   ]
  },
  {
   "cell_type": "code",
   "execution_count": 27,
   "metadata": {},
   "outputs": [
    {
     "data": {
      "image/png": "[encoded data removed]",
      "text/plain": [
       "<Figure size 1200x800 with 1 Axes>"
      ]
     },
     "metadata": {},
     "output_type": "display_data"
    }
   ],
   "source": [
    "# Scatter plot of POI Rating vs. Number of Bikes\n",
    "plt.figure(figsize=(12, 8))\n",
    "sns.scatterplot(\n",
    "    data=final_df_clean,\n",
    "    x='number_of_bikes',\n",
    "    y='poi_rating',\n",
    "    hue='source',\n",
    "    palette='Set2',\n",
    "    s=100,\n",
    "    alpha=0.7\n",
    ")\n",
    "plt.title('POI Rating vs. Number of Bikes by Source')\n",
    "plt.xlabel('Number of Bikes at Bike Station')\n",
    "plt.ylabel('POI Rating')\n",
    "plt.legend(title='Source')\n",
    "plt.grid(True)\n",
    "plt.show()"
   ]
  },
  {
   "cell_type": "markdown",
   "metadata": {},
   "source": [
    "### Visualization: POI Rating vs. Number of Bikes\n",
    "\n",
    "The scatter plot above shows the relationship between POI ratings and the number of bikes at bike stations. Each point represents a POI, and the color indicates whether it was sourced from Foursquare or Yelp. Foursquare uses a 10-point rating scale and and Yelp uses a 5-point rating scale. The scales were left unchanged for this visualization so the data points will not overlap, allowing the patterns to be more easily visible. The analysis below takes this into account.\n",
    "\n",
    "#### Pattern Observed:\n",
    "- **Higher Ratings Near More Bikes:** There seems to be a positive correlation between the number of bikes at a station and POI ratings.\n",
    "- **Foursquare vs. Yelp Differences:**\n",
    "  - **Foursquare:** Shows more diversity in ratings.\n",
    "  - **Yelp:** Tends to have higher average ratings compared to Foursquare.\n",
    "\n",
    "#### Insights:\n",
    "- **POIs Near Popular Bike Stations:** POIs near bike stations with more bikes often have higher ratings, possibly due to better accessibility or higher foot traffic.\n",
    "- **Source Differences:** The difference in ratings between Foursquare and Yelp suggests different user demographics or review behaviors."
   ]
  },
  {
   "cell_type": "markdown",
   "metadata": {},
   "source": [
    "### SQL Database"
   ]
  },
  {
   "cell_type": "code",
   "execution_count": 28,
   "metadata": {},
   "outputs": [],
   "source": [
    "import sqlite3"
   ]
  },
  {
   "cell_type": "code",
   "execution_count": 29,
   "metadata": {},
   "outputs": [],
   "source": [
    "# Create a connection to the SQLite database\n",
    "# It doesn't matter if the database doesn't yet exist\n",
    "conn = sqlite3.connect('my_database.db')"
   ]
  },
  {
   "cell_type": "code",
   "execution_count": 30,
   "metadata": {},
   "outputs": [],
   "source": [
    "# Load CSV data into Pandas DataFrames\n",
    "bike_stations = pd.read_csv('bike_stations.csv')\n",
    "combined_pois = pd.read_csv('combined_pois.csv')\n",
    "cleaned_bike_stations_pois = pd.read_csv('cleaned_bike_stations_pois.csv')"
   ]
  },
  {
   "cell_type": "code",
   "execution_count": 31,
   "metadata": {},
   "outputs": [
    {
     "data": {
      "text/plain": [
       "607"
      ]
     },
     "execution_count": 31,
     "metadata": {},
     "output_type": "execute_result"
    }
   ],
   "source": [
    "# Write the data from the DataFrame to the SQLite database\n",
    "bike_stations.to_sql('bike_stations', conn, if_exists='replace', index=False)\n",
    "combined_pois.to_sql('combined_pois', conn, if_exists='replace', index=False)\n",
    "cleaned_bike_stations_pois.to_sql('cleaned_bike_stations_pois', conn, if_exists='replace', index=False)"
   ]
  },
  {
   "cell_type": "code",
   "execution_count": 32,
   "metadata": {},
   "outputs": [],
   "source": [
    "# Close the connection\n",
    "conn.close()"
   ]
  },
  {
   "cell_type": "markdown",
   "metadata": {},
   "source": [
    "### Validate Data"
   ]
  },
  {
   "cell_type": "markdown",
   "metadata": {},
   "source": [
    "#### Before the Join"
   ]
  },
  {
   "cell_type": "code",
   "execution_count": 34,
   "metadata": {},
   "outputs": [],
   "source": [
    "# Connect to the SQLite database\n",
    "conn = sqlite3.connect('my_database.db')"
   ]
  },
  {
   "cell_type": "code",
   "execution_count": 35,
   "metadata": {},
   "outputs": [],
   "source": [
    "# Row counts of individual tables\n",
    "bike_stations_count_query = \"SELECT COUNT(*) AS count FROM bike_stations;\"\n",
    "combined_count_query = \"SELECT COUNT(*) AS count FROM combined_pois;\"\n",
    "\n",
    "bike_stations_count = pd.read_sql_query(bike_stations_count_query, conn)\n",
    "combined_count = pd.read_sql_query(combined_count_query, conn)\n",
    "\n",
    "# Check missing values in individual tables\n",
    "bike_stations_missing_query = \"\"\"\n",
    "    SELECT\n",
    "        COUNT(*) AS total,\n",
    "        SUM(CASE WHEN bike_station_name IS NULL THEN 1 ELSE 0 END) AS missing_name,\n",
    "        SUM(CASE WHEN bike_station_latitude IS NULL THEN 1 ELSE 0 END) AS missing_latitude,\n",
    "        SUM(CASE WHEN bike_station_longitude IS NULL THEN 1 ELSE 0 END) AS missing_longitude,\n",
    "        SUM(CASE WHEN number_of_bikes IS NULL THEN 1 ELSE 0 END) AS missing_bikes\n",
    "    FROM bike_stations;\n",
    "\"\"\"\n",
    "\n",
    "combined_missing_query = \"\"\"\n",
    "    SELECT\n",
    "        COUNT(*) AS total,\n",
    "        SUM(CASE WHEN restaurant_name IS NULL THEN 1 ELSE 0 END) AS missing_name,\n",
    "        SUM(CASE WHEN restaurant_latitude IS NULL THEN 1 ELSE 0 END) AS missing_latitude,\n",
    "        SUM(CASE WHEN restaurant_longitude IS NULL THEN 1 ELSE 0 END) AS missing_longitude,\n",
    "        SUM(CASE WHEN rating IS NULL THEN 1 ELSE 0 END) AS missing_rating,\n",
    "        SUM(CASE WHEN price IS NULL THEN 1 ELSE 0 END) AS missing_price,\n",
    "        SUM(CASE WHEN category IS NULL THEN 1 ELSE 0 END) AS missing_category,\n",
    "        SUM(CASE WHEN address IS NULL THEN 1 ELSE 0 END) AS missing_address\n",
    "    FROM combined_pois;\n",
    "\"\"\"\n",
    "\n",
    "bike_stations_missing = pd.read_sql_query(bike_stations_missing_query, conn)\n",
    "combined_missing = pd.read_sql_query(combined_missing_query, conn)\n"
   ]
  },
  {
   "cell_type": "code",
   "execution_count": 36,
   "metadata": {},
   "outputs": [
    {
     "name": "stdout",
     "output_type": "stream",
     "text": [
      "Missing values in bike_stations table:\n",
      "\n",
      "   total  missing_name  missing_latitude  missing_longitude  missing_bikes\n",
      "0     46             0                 0                  0              0\n",
      "Missing values in combined_pois table:\n",
      "\n",
      "   total  missing_name  missing_latitude  missing_longitude  missing_rating  \\\n",
      "0    634             0                 0                  0              26   \n",
      "\n",
      "   missing_price  missing_category  missing_address  \n",
      "0            246                 0               27  \n"
     ]
    }
   ],
   "source": [
    "print('Missing values in bike_stations table:\\n')\n",
    "print(bike_stations_missing)\n",
    "print('Missing values in combined_pois table:\\n')\n",
    "print(combined_missing)"
   ]
  },
  {
   "cell_type": "markdown",
   "metadata": {},
   "source": [
    "#### Join"
   ]
  },
  {
   "cell_type": "code",
   "execution_count": 37,
   "metadata": {},
   "outputs": [],
   "source": [
    "# Join query\n",
    "join_query = \"\"\"\n",
    "    SELECT\n",
    "        bs.bike_station_name,\n",
    "        bs.bike_station_latitude,\n",
    "        bs.bike_station_longitude,\n",
    "        bs.number_of_bikes,\n",
    "        poi.restaurant_name,\n",
    "        poi.rating,\n",
    "        poi.price,\n",
    "        poi.category,\n",
    "        poi.address,\n",
    "        poi.restaurant_latitude,\n",
    "        poi.restaurant_longitude\n",
    "    FROM combined_pois poi\n",
    "    JOIN bike_stations bs\n",
    "    ON ABS(bs.bike_station_latitude - poi.restaurant_latitude) < 0.01\n",
    "    AND ABS(bs.bike_station_longitude - poi.restaurant_longitude) < 0.01\n",
    "\"\"\"\n",
    "\n",
    "final_joined_df = pd.read_sql_query(join_query, conn)"
   ]
  },
  {
   "cell_type": "markdown",
   "metadata": {},
   "source": [
    "#### After the Join"
   ]
  },
  {
   "cell_type": "code",
   "execution_count": 38,
   "metadata": {},
   "outputs": [
    {
     "name": "stdout",
     "output_type": "stream",
     "text": [
      "Joined Table Count: 2133\n",
      "\n",
      "Joined Table Missing Values:\n",
      "bike_station_name           0\n",
      "bike_station_latitude       0\n",
      "bike_station_longitude      0\n",
      "number_of_bikes             0\n",
      "restaurant_name             0\n",
      "rating                     46\n",
      "price                     746\n",
      "category                    0\n",
      "address                    65\n",
      "restaurant_latitude         0\n",
      "restaurant_longitude        0\n",
      "dtype: int64\n"
     ]
    }
   ],
   "source": [
    "# Check row count after join\n",
    "joined_row_count = len(final_joined_df)\n",
    "\n",
    "# Check missing values in joined table\n",
    "joined_missing_values = final_joined_df.isnull().sum()\n",
    "\n",
    "# Print validation results\n",
    "print(f\"Joined Table Count: {joined_row_count}\")\n",
    "print(\"\\nJoined Table Missing Values:\")\n",
    "print(joined_missing_values)"
   ]
  },
  {
   "cell_type": "markdown",
   "metadata": {},
   "source": [
    "### Analysis"
   ]
  },
  {
   "cell_type": "markdown",
   "metadata": {},
   "source": [
    "#### Row Count Increase\n",
    "The row count increased from 634 (POIs) to 2133 in the joined table due to multiple POIs per bike station.\n",
    "\n",
    "#### Missing Data Analysis\n",
    "#### Rating\n",
    "- **Before Join:** 26 POIs were missing ratings.\n",
    "- **After Join:** 46 POIs are missing ratings.\n",
    "- **Reason:** Some bike stations have multiple POIs, leading to more rows with missing ratings.\n",
    "\n",
    "#### Price\n",
    "- **Before Join:** 246 POIs were missing price data.\n",
    "- **After Join:** 746 rows are missing price data.\n",
    "- **Reason:** The join operation led to the replication of POIs, resulting in more rows with missing price data.\n",
    "\n",
    "#### Address\n",
    "- **Before Join:** 27 POIs were missing addresses.\n",
    "- **After Join:** 65 rows are missing addresses.\n",
    "- **Reason:** Similar to the above, replication of POIs due to the join operation resulted in more rows with missing addresses."
   ]
  }
 ],
 "metadata": {
  "kernelspec": {
   "display_name": "Python 3",
   "language": "python",
   "name": "python3"
  },
  "language_info": {
   "codemirror_mode": {
    "name": "ipython",
    "version": 3
   },
   "file_extension": ".py",
   "mimetype": "text/x-python",
   "name": "python",
   "nbconvert_exporter": "python",
   "pygments_lexer": "ipython3",
   "version": "3.11.7"
  }
 },
 "nbformat": 4,
 "nbformat_minor": 4
}
